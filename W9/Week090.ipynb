{
 "cells": [
  {
   "cell_type": "code",
   "execution_count": 1,
   "metadata": {},
   "outputs": [],
   "source": [
    "import pymc3 as pm\n",
    "import numpy as np\n",
    "import pandas as pd\n",
    "import arviz as az\n",
    "from matplotlib import pyplot as plt"
   ]
  },
  {
   "cell_type": "markdown",
   "metadata": {},
   "source": [
    "Some exercises are taken from \"Statistical Rethinking by Richard McElreath\"\n",
    "\n",
    "1. Which kind of parameters cannot be sampled using Hamiltonian Monte Carlo? Why?\n",
    "\n",
    "The discrete (i.e., categorical) parameters cannot be sampled using HMC since the proposal distribution in HMS suggests the next target value by computing the gradient (i.e., derivative) of the posterior distribution with respect to the parameters.\n",
    "\n",
    "2. Find the code you have implemented last week for reproducing Figure 12.1. Perhaps tweak the parameters so that the scatter plot looks similar to the one by Nikolaj above (narrow). Now sve this data and use it as training data for training a model (we are faking a situation as if this was real data).  The trained model can be the same, just make the priors weak, and add observation data.  Experiment with Metropolis, Gibbs and NUTS samplers in PyMC3 to learn posterior distributions over the paramaters $\\theta_1$ and $\\theta_2$.  Can you confirm that in this scenario the Hamiltonian sampler has much higher convergence ? (for instance higer ESS). Is it translating to faster sampling at better quality on the wall clock?"
   ]
  },
  {
   "cell_type": "code",
   "execution_count": 2,
   "metadata": {},
   "outputs": [],
   "source": [
    "with pm.Model() as model_positive_correlation:\n",
    "    mode = 0.58\n",
    "    θ1 = pm.Normal('θ1', mu=mode, sd=0.08)\n",
    "    \n",
    "    θ2 = pm.Normal('θ2', θ1, 0.01)  \n",
    "    \n",
    "    θ1_minus_θ2 = pm.Deterministic (\n",
    "            \"θ1_minus_θ2\", \n",
    "            θ1 - θ2\n",
    "        )   "
   ]
  },
  {
   "cell_type": "code",
   "execution_count": 3,
   "metadata": {},
   "outputs": [
    {
     "name": "stderr",
     "output_type": "stream",
     "text": [
      "Auto-assigning NUTS sampler...\n",
      "Initializing NUTS using jitter+adapt_diag...\n",
      "Multiprocess sampling (4 chains in 4 jobs)\n",
      "NUTS: [θ2, θ1]\n",
      "Sampling 4 chains, 0 divergences: 100%|██████████| 6000/6000 [00:07<00:00, 794.41draws/s]\n",
      "The number of effective samples is smaller than 25% for some parameters.\n"
     ]
    }
   ],
   "source": [
    "with model_positive_correlation:\n",
    "    trace_NUTS_positive_correlation = pm.sample (1000, chains=4, cores=4)"
   ]
  },
  {
   "cell_type": "code",
   "execution_count": 4,
   "metadata": {},
   "outputs": [],
   "source": [
    "pm.save_trace(trace_NUTS_positive_correlation, \"trace_NUTS_positive_correlation\");"
   ]
  },
  {
   "cell_type": "code",
   "execution_count": 5,
   "metadata": {},
   "outputs": [],
   "source": [
    "NUTS_Po = pm.load_trace('trace_NUTS_positive_correlation', model=model_positive_correlation)"
   ]
  },
  {
   "cell_type": "code",
   "execution_count": 6,
   "metadata": {},
   "outputs": [],
   "source": [
    "Data = NUTS_Po.get_values('θ1_minus_θ2')\n",
    "\n",
    "with pm.Model() as model_weak_prior:\n",
    "    mode = 0.58\n",
    "    θ1 = pm.Normal('θ1', mu=mode, sd=12) \n",
    "    \n",
    "    θ2 = pm.Normal('θ2', mu=θ1, sd=0.1)\n",
    "    \n",
    "    θ3 = pm.Normal('θ3', mu=θ2, sd=0.1, observed=Data)  "
   ]
  },
  {
   "cell_type": "code",
   "execution_count": 7,
   "metadata": {},
   "outputs": [
    {
     "name": "stderr",
     "output_type": "stream",
     "text": [
      "Auto-assigning NUTS sampler...\n",
      "Initializing NUTS using jitter+adapt_diag...\n",
      "Multiprocess sampling (4 chains in 4 jobs)\n",
      "NUTS: [θ2, θ1]\n",
      "Sampling 4 chains, 0 divergences: 100%|██████████| 6000/6000 [00:04<00:00, 1238.33draws/s]\n",
      "The acceptance probability does not match the target. It is 0.8927917164185164, but should be close to 0.8. Try to increase the number of tuning steps.\n",
      "The acceptance probability does not match the target. It is 0.8905414050514019, but should be close to 0.8. Try to increase the number of tuning steps.\n"
     ]
    }
   ],
   "source": [
    "with model_weak_prior:\n",
    "    trace_weak_prior_NUTS = pm.sample (1000, cores=4)"
   ]
  },
  {
   "cell_type": "code",
   "execution_count": 8,
   "metadata": {},
   "outputs": [
    {
     "data": {
      "text/html": [
       "<div>\n",
       "<style scoped>\n",
       "    .dataframe tbody tr th:only-of-type {\n",
       "        vertical-align: middle;\n",
       "    }\n",
       "\n",
       "    .dataframe tbody tr th {\n",
       "        vertical-align: top;\n",
       "    }\n",
       "\n",
       "    .dataframe thead th {\n",
       "        text-align: right;\n",
       "    }\n",
       "</style>\n",
       "<table border=\"1\" class=\"dataframe\">\n",
       "  <thead>\n",
       "    <tr style=\"text-align: right;\">\n",
       "      <th></th>\n",
       "      <th>mean</th>\n",
       "      <th>sd</th>\n",
       "      <th>hpd_3%</th>\n",
       "      <th>hpd_97%</th>\n",
       "      <th>mcse_mean</th>\n",
       "      <th>mcse_sd</th>\n",
       "      <th>ess_mean</th>\n",
       "      <th>ess_sd</th>\n",
       "      <th>ess_bulk</th>\n",
       "      <th>ess_tail</th>\n",
       "      <th>r_hat</th>\n",
       "    </tr>\n",
       "  </thead>\n",
       "  <tbody>\n",
       "    <tr>\n",
       "      <th>θ1</th>\n",
       "      <td>-0.0</td>\n",
       "      <td>0.102</td>\n",
       "      <td>-0.182</td>\n",
       "      <td>0.200</td>\n",
       "      <td>0.002</td>\n",
       "      <td>0.002</td>\n",
       "      <td>3878.0</td>\n",
       "      <td>1761.0</td>\n",
       "      <td>3874.0</td>\n",
       "      <td>2658.0</td>\n",
       "      <td>1.0</td>\n",
       "    </tr>\n",
       "    <tr>\n",
       "      <th>θ2</th>\n",
       "      <td>-0.0</td>\n",
       "      <td>0.002</td>\n",
       "      <td>-0.003</td>\n",
       "      <td>0.003</td>\n",
       "      <td>0.000</td>\n",
       "      <td>0.000</td>\n",
       "      <td>3665.0</td>\n",
       "      <td>1761.0</td>\n",
       "      <td>3662.0</td>\n",
       "      <td>2557.0</td>\n",
       "      <td>1.0</td>\n",
       "    </tr>\n",
       "  </tbody>\n",
       "</table>\n",
       "</div>"
      ],
      "text/plain": [
       "    mean     sd  hpd_3%  hpd_97%  mcse_mean  mcse_sd  ess_mean  ess_sd  \\\n",
       "θ1  -0.0  0.102  -0.182    0.200      0.002    0.002    3878.0  1761.0   \n",
       "θ2  -0.0  0.002  -0.003    0.003      0.000    0.000    3665.0  1761.0   \n",
       "\n",
       "    ess_bulk  ess_tail  r_hat  \n",
       "θ1    3874.0    2658.0    1.0  \n",
       "θ2    3662.0    2557.0    1.0  "
      ]
     },
     "execution_count": 8,
     "metadata": {},
     "output_type": "execute_result"
    }
   ],
   "source": [
    "pm.summary(trace_weak_prior_NUTS)"
   ]
  },
  {
   "cell_type": "code",
   "execution_count": 9,
   "metadata": {},
   "outputs": [
    {
     "name": "stderr",
     "output_type": "stream",
     "text": [
      "Multiprocess sampling (4 chains in 4 jobs)\n",
      "CompoundStep\n",
      ">Metropolis: [θ2]\n",
      ">Metropolis: [θ1]\n",
      "Sampling 4 chains, 0 divergences: 100%|██████████| 6000/6000 [00:01<00:00, 3561.78draws/s]\n",
      "The estimated number of effective samples is smaller than 200 for some parameters.\n"
     ]
    }
   ],
   "source": [
    "with model_weak_prior:\n",
    "    trace_weak_prior_Metropolis = pm.sample (1000, cores=4, step=pm.Metropolis())"
   ]
  },
  {
   "cell_type": "code",
   "execution_count": 10,
   "metadata": {},
   "outputs": [
    {
     "data": {
      "text/html": [
       "<div>\n",
       "<style scoped>\n",
       "    .dataframe tbody tr th:only-of-type {\n",
       "        vertical-align: middle;\n",
       "    }\n",
       "\n",
       "    .dataframe tbody tr th {\n",
       "        vertical-align: top;\n",
       "    }\n",
       "\n",
       "    .dataframe thead th {\n",
       "        text-align: right;\n",
       "    }\n",
       "</style>\n",
       "<table border=\"1\" class=\"dataframe\">\n",
       "  <thead>\n",
       "    <tr style=\"text-align: right;\">\n",
       "      <th></th>\n",
       "      <th>mean</th>\n",
       "      <th>sd</th>\n",
       "      <th>hpd_3%</th>\n",
       "      <th>hpd_97%</th>\n",
       "      <th>mcse_mean</th>\n",
       "      <th>mcse_sd</th>\n",
       "      <th>ess_mean</th>\n",
       "      <th>ess_sd</th>\n",
       "      <th>ess_bulk</th>\n",
       "      <th>ess_tail</th>\n",
       "      <th>r_hat</th>\n",
       "    </tr>\n",
       "  </thead>\n",
       "  <tbody>\n",
       "    <tr>\n",
       "      <th>θ1</th>\n",
       "      <td>-0.009</td>\n",
       "      <td>0.096</td>\n",
       "      <td>-0.211</td>\n",
       "      <td>0.152</td>\n",
       "      <td>0.004</td>\n",
       "      <td>0.004</td>\n",
       "      <td>551.0</td>\n",
       "      <td>355.0</td>\n",
       "      <td>569.0</td>\n",
       "      <td>565.0</td>\n",
       "      <td>1.01</td>\n",
       "    </tr>\n",
       "    <tr>\n",
       "      <th>θ2</th>\n",
       "      <td>0.000</td>\n",
       "      <td>0.002</td>\n",
       "      <td>-0.003</td>\n",
       "      <td>0.003</td>\n",
       "      <td>0.000</td>\n",
       "      <td>0.000</td>\n",
       "      <td>177.0</td>\n",
       "      <td>118.0</td>\n",
       "      <td>179.0</td>\n",
       "      <td>202.0</td>\n",
       "      <td>1.02</td>\n",
       "    </tr>\n",
       "  </tbody>\n",
       "</table>\n",
       "</div>"
      ],
      "text/plain": [
       "     mean     sd  hpd_3%  hpd_97%  mcse_mean  mcse_sd  ess_mean  ess_sd  \\\n",
       "θ1 -0.009  0.096  -0.211    0.152      0.004    0.004     551.0   355.0   \n",
       "θ2  0.000  0.002  -0.003    0.003      0.000    0.000     177.0   118.0   \n",
       "\n",
       "    ess_bulk  ess_tail  r_hat  \n",
       "θ1     569.0     565.0   1.01  \n",
       "θ2     179.0     202.0   1.02  "
      ]
     },
     "execution_count": 10,
     "metadata": {},
     "output_type": "execute_result"
    }
   ],
   "source": [
    "pm.summary(trace_weak_prior_Metropolis)"
   ]
  },
  {
   "cell_type": "code",
   "execution_count": 11,
   "metadata": {},
   "outputs": [
    {
     "name": "stderr",
     "output_type": "stream",
     "text": [
      "Multiprocess sampling (4 chains in 4 jobs)\n",
      "HamiltonianMC: [θ2, θ1]\n",
      "Sampling 4 chains, 0 divergences: 100%|██████████| 6000/6000 [00:23<00:00, 260.44draws/s] \n",
      "The acceptance probability does not match the target. It is 0.9945209080534148, but should be close to 0.65. Try to increase the number of tuning steps.\n",
      "The acceptance probability does not match the target. It is 0.7751039289577047, but should be close to 0.65. Try to increase the number of tuning steps.\n",
      "The acceptance probability does not match the target. It is 0.8342640738570833, but should be close to 0.65. Try to increase the number of tuning steps.\n",
      "The acceptance probability does not match the target. It is 0.9927707790135261, but should be close to 0.65. Try to increase the number of tuning steps.\n"
     ]
    }
   ],
   "source": [
    "with model_weak_prior:\n",
    "    trace_weak_prior_HamiltonianMC = pm.sample (1000, cores=4, step=pm.HamiltonianMC())"
   ]
  },
  {
   "cell_type": "code",
   "execution_count": 12,
   "metadata": {},
   "outputs": [
    {
     "data": {
      "text/html": [
       "<div>\n",
       "<style scoped>\n",
       "    .dataframe tbody tr th:only-of-type {\n",
       "        vertical-align: middle;\n",
       "    }\n",
       "\n",
       "    .dataframe tbody tr th {\n",
       "        vertical-align: top;\n",
       "    }\n",
       "\n",
       "    .dataframe thead th {\n",
       "        text-align: right;\n",
       "    }\n",
       "</style>\n",
       "<table border=\"1\" class=\"dataframe\">\n",
       "  <thead>\n",
       "    <tr style=\"text-align: right;\">\n",
       "      <th></th>\n",
       "      <th>mean</th>\n",
       "      <th>sd</th>\n",
       "      <th>hpd_3%</th>\n",
       "      <th>hpd_97%</th>\n",
       "      <th>mcse_mean</th>\n",
       "      <th>mcse_sd</th>\n",
       "      <th>ess_mean</th>\n",
       "      <th>ess_sd</th>\n",
       "      <th>ess_bulk</th>\n",
       "      <th>ess_tail</th>\n",
       "      <th>r_hat</th>\n",
       "    </tr>\n",
       "  </thead>\n",
       "  <tbody>\n",
       "    <tr>\n",
       "      <th>θ1</th>\n",
       "      <td>-0.002</td>\n",
       "      <td>0.103</td>\n",
       "      <td>-0.208</td>\n",
       "      <td>0.181</td>\n",
       "      <td>0.002</td>\n",
       "      <td>0.001</td>\n",
       "      <td>3219.0</td>\n",
       "      <td>2903.0</td>\n",
       "      <td>3223.0</td>\n",
       "      <td>2935.0</td>\n",
       "      <td>1.0</td>\n",
       "    </tr>\n",
       "    <tr>\n",
       "      <th>θ2</th>\n",
       "      <td>-0.000</td>\n",
       "      <td>0.002</td>\n",
       "      <td>-0.003</td>\n",
       "      <td>0.003</td>\n",
       "      <td>0.000</td>\n",
       "      <td>0.000</td>\n",
       "      <td>2230.0</td>\n",
       "      <td>2230.0</td>\n",
       "      <td>2213.0</td>\n",
       "      <td>2679.0</td>\n",
       "      <td>1.0</td>\n",
       "    </tr>\n",
       "  </tbody>\n",
       "</table>\n",
       "</div>"
      ],
      "text/plain": [
       "     mean     sd  hpd_3%  hpd_97%  mcse_mean  mcse_sd  ess_mean  ess_sd  \\\n",
       "θ1 -0.002  0.103  -0.208    0.181      0.002    0.001    3219.0  2903.0   \n",
       "θ2 -0.000  0.002  -0.003    0.003      0.000    0.000    2230.0  2230.0   \n",
       "\n",
       "    ess_bulk  ess_tail  r_hat  \n",
       "θ1    3223.0    2935.0    1.0  \n",
       "θ2    2213.0    2679.0    1.0  "
      ]
     },
     "execution_count": 12,
     "metadata": {},
     "output_type": "execute_result"
    }
   ],
   "source": [
    "pm.summary(trace_weak_prior_HamiltonianMC)"
   ]
  }
 ],
 "metadata": {
  "kernelspec": {
   "display_name": "Python 3",
   "language": "python",
   "name": "python3"
  },
  "language_info": {
   "codemirror_mode": {
    "name": "ipython",
    "version": 3
   },
   "file_extension": ".py",
   "mimetype": "text/x-python",
   "name": "python",
   "nbconvert_exporter": "python",
   "pygments_lexer": "ipython3",
   "version": "3.8.1"
  }
 },
 "nbformat": 4,
 "nbformat_minor": 4
}
